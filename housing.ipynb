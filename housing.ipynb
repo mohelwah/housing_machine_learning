{
 "cells": [
  {
   "cell_type": "code",
   "execution_count": 1,
   "id": "726a1b49",
   "metadata": {
    "_cell_guid": "b1076dfc-b9ad-4769-8c92-a6c4dae69d19",
    "_uuid": "8f2839f25d086af736a60e9eeb907d3b93b6e0e5",
    "execution": {
     "iopub.execute_input": "2022-03-16T18:44:54.696613Z",
     "iopub.status.busy": "2022-03-16T18:44:54.695355Z",
     "iopub.status.idle": "2022-03-16T18:44:54.712234Z",
     "shell.execute_reply": "2022-03-16T18:44:54.712752Z",
     "shell.execute_reply.started": "2022-03-16T18:27:33.424582Z"
    },
    "papermill": {
     "duration": 0.038647,
     "end_time": "2022-03-16T18:44:54.713036",
     "exception": false,
     "start_time": "2022-03-16T18:44:54.674389",
     "status": "completed"
    },
    "tags": []
   },
   "outputs": [
    {
     "name": "stdout",
     "output_type": "stream",
     "text": [
      "/kaggle/input/california-housing-data/housing.csv\n"
     ]
    }
   ],
   "source": [
    "# This Python 3 environment comes with many helpful analytics libraries installed\n",
    "# It is defined by the kaggle/python Docker image: https://github.com/kaggle/docker-python\n",
    "# For example, here's several helpful packages to load\n",
    "\n",
    "import numpy as np # linear algebra\n",
    "import pandas as pd # data processing, CSV file I/O (e.g. pd.read_csv)\n",
    "\n",
    "# Input data files are available in the read-only \"../input/\" directory\n",
    "# For example, running this (by clicking run or pressing Shift+Enter) will list all files under the input directory\n",
    "\n",
    "import os\n",
    "for dirname, _, filenames in os.walk('/kaggle/input'):\n",
    "    for filename in filenames:\n",
    "        print(os.path.join(dirname, filename))\n",
    "\n",
    "# You can write up to 20GB to the current directory (/kaggle/working/) that gets preserved as output when you create a version using \"Save & Run All\" \n",
    "# You can also write temporary files to /kaggle/temp/, but they won't be saved outside of the current session"
   ]
  },
  {
   "cell_type": "markdown",
   "id": "a1b409ac",
   "metadata": {
    "papermill": {
     "duration": 0.016531,
     "end_time": "2022-03-16T18:44:54.747238",
     "exception": false,
     "start_time": "2022-03-16T18:44:54.730707",
     "status": "completed"
    },
    "tags": []
   },
   "source": [
    "## Packages Loading"
   ]
  },
  {
   "cell_type": "code",
   "execution_count": 2,
   "id": "b78e6187",
   "metadata": {
    "execution": {
     "iopub.execute_input": "2022-03-16T18:44:54.783517Z",
     "iopub.status.busy": "2022-03-16T18:44:54.782867Z",
     "iopub.status.idle": "2022-03-16T18:44:54.788348Z",
     "shell.execute_reply": "2022-03-16T18:44:54.788841Z",
     "shell.execute_reply.started": "2022-03-16T18:39:47.505954Z"
    },
    "papermill": {
     "duration": 0.025162,
     "end_time": "2022-03-16T18:44:54.789005",
     "exception": false,
     "start_time": "2022-03-16T18:44:54.763843",
     "status": "completed"
    },
    "tags": []
   },
   "outputs": [],
   "source": [
    "# laod require packages\n",
    "%matplotlib inline\n",
    "import matplotlib as mpl\n",
    "import matplotlib.pyplot as plt\n"
   ]
  },
  {
   "cell_type": "markdown",
   "id": "be1b5190",
   "metadata": {
    "papermill": {
     "duration": 0.016697,
     "end_time": "2022-03-16T18:44:54.822618",
     "exception": false,
     "start_time": "2022-03-16T18:44:54.805921",
     "status": "completed"
    },
    "tags": []
   },
   "source": [
    "## **Utility Fucntions**"
   ]
  },
  {
   "cell_type": "code",
   "execution_count": 3,
   "id": "c70f25f4",
   "metadata": {
    "execution": {
     "iopub.execute_input": "2022-03-16T18:44:54.859334Z",
     "iopub.status.busy": "2022-03-16T18:44:54.858702Z",
     "iopub.status.idle": "2022-03-16T18:44:54.864235Z",
     "shell.execute_reply": "2022-03-16T18:44:54.864731Z",
     "shell.execute_reply.started": "2022-03-16T18:40:05.140994Z"
    },
    "papermill": {
     "duration": 0.025554,
     "end_time": "2022-03-16T18:44:54.864893",
     "exception": false,
     "start_time": "2022-03-16T18:44:54.839339",
     "status": "completed"
    },
    "tags": []
   },
   "outputs": [],
   "source": [
    "# configure matplotlip\n",
    "%matplotlib inline\n",
    "mpl.rc('axes', labelsize=14)\n",
    "mpl.rc('xtick', labelsize=12)\n",
    "mpl.rc('ytick', labelsize=12)"
   ]
  },
  {
   "cell_type": "code",
   "execution_count": 4,
   "id": "0575dd91",
   "metadata": {
    "execution": {
     "iopub.execute_input": "2022-03-16T18:44:54.901627Z",
     "iopub.status.busy": "2022-03-16T18:44:54.900915Z",
     "iopub.status.idle": "2022-03-16T18:44:54.907008Z",
     "shell.execute_reply": "2022-03-16T18:44:54.907572Z",
     "shell.execute_reply.started": "2022-03-16T18:40:40.959350Z"
    },
    "papermill": {
     "duration": 0.0261,
     "end_time": "2022-03-16T18:44:54.907748",
     "exception": false,
     "start_time": "2022-03-16T18:44:54.881648",
     "status": "completed"
    },
    "tags": []
   },
   "outputs": [],
   "source": [
    "# function to save fig\n",
    "PROJECT_ROOT_DIR = \".\"\n",
    "CHAPTER_ID = \"end_to_end_project\"\n",
    "IMAGES_PATH = os.path.join(PROJECT_ROOT_DIR, \"images\", CHAPTER_ID)\n",
    "os.makedirs(IMAGES_PATH, exist_ok=True)\n",
    "\n",
    "def save_fig(fig_id, tight_layout=True, fig_extension=\"png\", resolution=300):\n",
    "    path = os.path.join(IMAGES_PATH, fig_id + \".\" + fig_extension)\n",
    "    print(\"Saving figure\", fig_id)\n",
    "    if tight_layout:\n",
    "        plt.tight_layout()\n",
    "    plt.savefig(path, format=fig_extension, dpi=resolution)"
   ]
  },
  {
   "cell_type": "markdown",
   "id": "9674e751",
   "metadata": {
    "papermill": {
     "duration": 0.016392,
     "end_time": "2022-03-16T18:44:54.940961",
     "exception": false,
     "start_time": "2022-03-16T18:44:54.924569",
     "status": "completed"
    },
    "tags": []
   },
   "source": [
    "# # **Load and quick look**"
   ]
  },
  {
   "cell_type": "code",
   "execution_count": 5,
   "id": "7fe2c6ab",
   "metadata": {
    "execution": {
     "iopub.execute_input": "2022-03-16T18:44:54.979232Z",
     "iopub.status.busy": "2022-03-16T18:44:54.978272Z",
     "iopub.status.idle": "2022-03-16T18:44:55.056370Z",
     "shell.execute_reply": "2022-03-16T18:44:55.056890Z",
     "shell.execute_reply.started": "2022-03-16T18:29:53.783611Z"
    },
    "papermill": {
     "duration": 0.09922,
     "end_time": "2022-03-16T18:44:55.057061",
     "exception": false,
     "start_time": "2022-03-16T18:44:54.957841",
     "status": "completed"
    },
    "tags": []
   },
   "outputs": [
    {
     "data": {
      "text/html": [
       "<div>\n",
       "<style scoped>\n",
       "    .dataframe tbody tr th:only-of-type {\n",
       "        vertical-align: middle;\n",
       "    }\n",
       "\n",
       "    .dataframe tbody tr th {\n",
       "        vertical-align: top;\n",
       "    }\n",
       "\n",
       "    .dataframe thead th {\n",
       "        text-align: right;\n",
       "    }\n",
       "</style>\n",
       "<table border=\"1\" class=\"dataframe\">\n",
       "  <thead>\n",
       "    <tr style=\"text-align: right;\">\n",
       "      <th></th>\n",
       "      <th>longitude</th>\n",
       "      <th>latitude</th>\n",
       "      <th>housing_median_age</th>\n",
       "      <th>total_rooms</th>\n",
       "      <th>total_bedrooms</th>\n",
       "      <th>population</th>\n",
       "      <th>households</th>\n",
       "      <th>median_income</th>\n",
       "      <th>median_house_value</th>\n",
       "      <th>ocean_proximity</th>\n",
       "    </tr>\n",
       "  </thead>\n",
       "  <tbody>\n",
       "    <tr>\n",
       "      <th>0</th>\n",
       "      <td>-122.23</td>\n",
       "      <td>37.88</td>\n",
       "      <td>41.0</td>\n",
       "      <td>880.0</td>\n",
       "      <td>129.0</td>\n",
       "      <td>322.0</td>\n",
       "      <td>126.0</td>\n",
       "      <td>8.3252</td>\n",
       "      <td>452600.0</td>\n",
       "      <td>NEAR BAY</td>\n",
       "    </tr>\n",
       "    <tr>\n",
       "      <th>1</th>\n",
       "      <td>-122.22</td>\n",
       "      <td>37.86</td>\n",
       "      <td>21.0</td>\n",
       "      <td>7099.0</td>\n",
       "      <td>1106.0</td>\n",
       "      <td>2401.0</td>\n",
       "      <td>1138.0</td>\n",
       "      <td>8.3014</td>\n",
       "      <td>358500.0</td>\n",
       "      <td>NEAR BAY</td>\n",
       "    </tr>\n",
       "    <tr>\n",
       "      <th>2</th>\n",
       "      <td>-122.24</td>\n",
       "      <td>37.85</td>\n",
       "      <td>52.0</td>\n",
       "      <td>1467.0</td>\n",
       "      <td>190.0</td>\n",
       "      <td>496.0</td>\n",
       "      <td>177.0</td>\n",
       "      <td>7.2574</td>\n",
       "      <td>352100.0</td>\n",
       "      <td>NEAR BAY</td>\n",
       "    </tr>\n",
       "    <tr>\n",
       "      <th>3</th>\n",
       "      <td>-122.25</td>\n",
       "      <td>37.85</td>\n",
       "      <td>52.0</td>\n",
       "      <td>1274.0</td>\n",
       "      <td>235.0</td>\n",
       "      <td>558.0</td>\n",
       "      <td>219.0</td>\n",
       "      <td>5.6431</td>\n",
       "      <td>341300.0</td>\n",
       "      <td>NEAR BAY</td>\n",
       "    </tr>\n",
       "    <tr>\n",
       "      <th>4</th>\n",
       "      <td>-122.25</td>\n",
       "      <td>37.85</td>\n",
       "      <td>52.0</td>\n",
       "      <td>1627.0</td>\n",
       "      <td>280.0</td>\n",
       "      <td>565.0</td>\n",
       "      <td>259.0</td>\n",
       "      <td>3.8462</td>\n",
       "      <td>342200.0</td>\n",
       "      <td>NEAR BAY</td>\n",
       "    </tr>\n",
       "  </tbody>\n",
       "</table>\n",
       "</div>"
      ],
      "text/plain": [
       "   longitude  latitude  housing_median_age  total_rooms  total_bedrooms  \\\n",
       "0    -122.23     37.88                41.0        880.0           129.0   \n",
       "1    -122.22     37.86                21.0       7099.0          1106.0   \n",
       "2    -122.24     37.85                52.0       1467.0           190.0   \n",
       "3    -122.25     37.85                52.0       1274.0           235.0   \n",
       "4    -122.25     37.85                52.0       1627.0           280.0   \n",
       "\n",
       "   population  households  median_income  median_house_value ocean_proximity  \n",
       "0       322.0       126.0         8.3252            452600.0        NEAR BAY  \n",
       "1      2401.0      1138.0         8.3014            358500.0        NEAR BAY  \n",
       "2       496.0       177.0         7.2574            352100.0        NEAR BAY  \n",
       "3       558.0       219.0         5.6431            341300.0        NEAR BAY  \n",
       "4       565.0       259.0         3.8462            342200.0        NEAR BAY  "
      ]
     },
     "execution_count": 5,
     "metadata": {},
     "output_type": "execute_result"
    }
   ],
   "source": [
    "df_path = '/kaggle/input/california-housing-data/housing.csv'\n",
    "housing = pd.read_csv(df_path)\n",
    "housing.head()"
   ]
  },
  {
   "cell_type": "code",
   "execution_count": 6,
   "id": "384ac376",
   "metadata": {
    "execution": {
     "iopub.execute_input": "2022-03-16T18:44:55.099075Z",
     "iopub.status.busy": "2022-03-16T18:44:55.098432Z",
     "iopub.status.idle": "2022-03-16T18:44:55.122137Z",
     "shell.execute_reply": "2022-03-16T18:44:55.121556Z",
     "shell.execute_reply.started": "2022-03-16T18:30:34.822433Z"
    },
    "papermill": {
     "duration": 0.047774,
     "end_time": "2022-03-16T18:44:55.122298",
     "exception": false,
     "start_time": "2022-03-16T18:44:55.074524",
     "status": "completed"
    },
    "tags": []
   },
   "outputs": [
    {
     "name": "stdout",
     "output_type": "stream",
     "text": [
      "<class 'pandas.core.frame.DataFrame'>\n",
      "RangeIndex: 20640 entries, 0 to 20639\n",
      "Data columns (total 10 columns):\n",
      " #   Column              Non-Null Count  Dtype  \n",
      "---  ------              --------------  -----  \n",
      " 0   longitude           20640 non-null  float64\n",
      " 1   latitude            20640 non-null  float64\n",
      " 2   housing_median_age  20640 non-null  float64\n",
      " 3   total_rooms         20640 non-null  float64\n",
      " 4   total_bedrooms      20433 non-null  float64\n",
      " 5   population          20640 non-null  float64\n",
      " 6   households          20640 non-null  float64\n",
      " 7   median_income       20640 non-null  float64\n",
      " 8   median_house_value  20640 non-null  float64\n",
      " 9   ocean_proximity     20640 non-null  object \n",
      "dtypes: float64(9), object(1)\n",
      "memory usage: 1.6+ MB\n"
     ]
    }
   ],
   "source": [
    "housing.info()"
   ]
  },
  {
   "cell_type": "markdown",
   "id": "06f004f6",
   "metadata": {
    "papermill": {
     "duration": 0.017471,
     "end_time": "2022-03-16T18:44:55.157658",
     "exception": false,
     "start_time": "2022-03-16T18:44:55.140187",
     "status": "completed"
    },
    "tags": []
   },
   "source": [
    "the data set contain 8 feature (7 float64 1 object), the target att is 'median_house_value'\n"
   ]
  },
  {
   "cell_type": "code",
   "execution_count": 7,
   "id": "e3837609",
   "metadata": {
    "execution": {
     "iopub.execute_input": "2022-03-16T18:44:55.204509Z",
     "iopub.status.busy": "2022-03-16T18:44:55.203762Z",
     "iopub.status.idle": "2022-03-16T18:44:55.207542Z",
     "shell.execute_reply": "2022-03-16T18:44:55.206923Z",
     "shell.execute_reply.started": "2022-03-16T18:32:50.950187Z"
    },
    "papermill": {
     "duration": 0.032317,
     "end_time": "2022-03-16T18:44:55.207697",
     "exception": false,
     "start_time": "2022-03-16T18:44:55.175380",
     "status": "completed"
    },
    "tags": []
   },
   "outputs": [
    {
     "data": {
      "text/plain": [
       "<1H OCEAN     9136\n",
       "INLAND        6551\n",
       "NEAR OCEAN    2658\n",
       "NEAR BAY      2290\n",
       "ISLAND           5\n",
       "Name: ocean_proximity, dtype: int64"
      ]
     },
     "execution_count": 7,
     "metadata": {},
     "output_type": "execute_result"
    }
   ],
   "source": [
    "housing['ocean_proximity'].value_counts()"
   ]
  },
  {
   "cell_type": "code",
   "execution_count": 8,
   "id": "7ea6471d",
   "metadata": {
    "execution": {
     "iopub.execute_input": "2022-03-16T18:44:55.252629Z",
     "iopub.status.busy": "2022-03-16T18:44:55.247158Z",
     "iopub.status.idle": "2022-03-16T18:44:55.289995Z",
     "shell.execute_reply": "2022-03-16T18:44:55.290604Z",
     "shell.execute_reply.started": "2022-03-16T18:33:16.301316Z"
    },
    "papermill": {
     "duration": 0.064408,
     "end_time": "2022-03-16T18:44:55.290772",
     "exception": false,
     "start_time": "2022-03-16T18:44:55.226364",
     "status": "completed"
    },
    "tags": []
   },
   "outputs": [
    {
     "data": {
      "text/html": [
       "<div>\n",
       "<style scoped>\n",
       "    .dataframe tbody tr th:only-of-type {\n",
       "        vertical-align: middle;\n",
       "    }\n",
       "\n",
       "    .dataframe tbody tr th {\n",
       "        vertical-align: top;\n",
       "    }\n",
       "\n",
       "    .dataframe thead th {\n",
       "        text-align: right;\n",
       "    }\n",
       "</style>\n",
       "<table border=\"1\" class=\"dataframe\">\n",
       "  <thead>\n",
       "    <tr style=\"text-align: right;\">\n",
       "      <th></th>\n",
       "      <th>longitude</th>\n",
       "      <th>latitude</th>\n",
       "      <th>housing_median_age</th>\n",
       "      <th>total_rooms</th>\n",
       "      <th>total_bedrooms</th>\n",
       "      <th>population</th>\n",
       "      <th>households</th>\n",
       "      <th>median_income</th>\n",
       "      <th>median_house_value</th>\n",
       "    </tr>\n",
       "  </thead>\n",
       "  <tbody>\n",
       "    <tr>\n",
       "      <th>count</th>\n",
       "      <td>20640.000000</td>\n",
       "      <td>20640.000000</td>\n",
       "      <td>20640.000000</td>\n",
       "      <td>20640.000000</td>\n",
       "      <td>20433.000000</td>\n",
       "      <td>20640.000000</td>\n",
       "      <td>20640.000000</td>\n",
       "      <td>20640.000000</td>\n",
       "      <td>20640.000000</td>\n",
       "    </tr>\n",
       "    <tr>\n",
       "      <th>mean</th>\n",
       "      <td>-119.569704</td>\n",
       "      <td>35.631861</td>\n",
       "      <td>28.639486</td>\n",
       "      <td>2635.763081</td>\n",
       "      <td>537.870553</td>\n",
       "      <td>1425.476744</td>\n",
       "      <td>499.539680</td>\n",
       "      <td>3.870671</td>\n",
       "      <td>206855.816909</td>\n",
       "    </tr>\n",
       "    <tr>\n",
       "      <th>std</th>\n",
       "      <td>2.003532</td>\n",
       "      <td>2.135952</td>\n",
       "      <td>12.585558</td>\n",
       "      <td>2181.615252</td>\n",
       "      <td>421.385070</td>\n",
       "      <td>1132.462122</td>\n",
       "      <td>382.329753</td>\n",
       "      <td>1.899822</td>\n",
       "      <td>115395.615874</td>\n",
       "    </tr>\n",
       "    <tr>\n",
       "      <th>min</th>\n",
       "      <td>-124.350000</td>\n",
       "      <td>32.540000</td>\n",
       "      <td>1.000000</td>\n",
       "      <td>2.000000</td>\n",
       "      <td>1.000000</td>\n",
       "      <td>3.000000</td>\n",
       "      <td>1.000000</td>\n",
       "      <td>0.499900</td>\n",
       "      <td>14999.000000</td>\n",
       "    </tr>\n",
       "    <tr>\n",
       "      <th>25%</th>\n",
       "      <td>-121.800000</td>\n",
       "      <td>33.930000</td>\n",
       "      <td>18.000000</td>\n",
       "      <td>1447.750000</td>\n",
       "      <td>296.000000</td>\n",
       "      <td>787.000000</td>\n",
       "      <td>280.000000</td>\n",
       "      <td>2.563400</td>\n",
       "      <td>119600.000000</td>\n",
       "    </tr>\n",
       "    <tr>\n",
       "      <th>50%</th>\n",
       "      <td>-118.490000</td>\n",
       "      <td>34.260000</td>\n",
       "      <td>29.000000</td>\n",
       "      <td>2127.000000</td>\n",
       "      <td>435.000000</td>\n",
       "      <td>1166.000000</td>\n",
       "      <td>409.000000</td>\n",
       "      <td>3.534800</td>\n",
       "      <td>179700.000000</td>\n",
       "    </tr>\n",
       "    <tr>\n",
       "      <th>75%</th>\n",
       "      <td>-118.010000</td>\n",
       "      <td>37.710000</td>\n",
       "      <td>37.000000</td>\n",
       "      <td>3148.000000</td>\n",
       "      <td>647.000000</td>\n",
       "      <td>1725.000000</td>\n",
       "      <td>605.000000</td>\n",
       "      <td>4.743250</td>\n",
       "      <td>264725.000000</td>\n",
       "    </tr>\n",
       "    <tr>\n",
       "      <th>max</th>\n",
       "      <td>-114.310000</td>\n",
       "      <td>41.950000</td>\n",
       "      <td>52.000000</td>\n",
       "      <td>39320.000000</td>\n",
       "      <td>6445.000000</td>\n",
       "      <td>35682.000000</td>\n",
       "      <td>6082.000000</td>\n",
       "      <td>15.000100</td>\n",
       "      <td>500001.000000</td>\n",
       "    </tr>\n",
       "  </tbody>\n",
       "</table>\n",
       "</div>"
      ],
      "text/plain": [
       "          longitude      latitude  housing_median_age   total_rooms  \\\n",
       "count  20640.000000  20640.000000        20640.000000  20640.000000   \n",
       "mean    -119.569704     35.631861           28.639486   2635.763081   \n",
       "std        2.003532      2.135952           12.585558   2181.615252   \n",
       "min     -124.350000     32.540000            1.000000      2.000000   \n",
       "25%     -121.800000     33.930000           18.000000   1447.750000   \n",
       "50%     -118.490000     34.260000           29.000000   2127.000000   \n",
       "75%     -118.010000     37.710000           37.000000   3148.000000   \n",
       "max     -114.310000     41.950000           52.000000  39320.000000   \n",
       "\n",
       "       total_bedrooms    population    households  median_income  \\\n",
       "count    20433.000000  20640.000000  20640.000000   20640.000000   \n",
       "mean       537.870553   1425.476744    499.539680       3.870671   \n",
       "std        421.385070   1132.462122    382.329753       1.899822   \n",
       "min          1.000000      3.000000      1.000000       0.499900   \n",
       "25%        296.000000    787.000000    280.000000       2.563400   \n",
       "50%        435.000000   1166.000000    409.000000       3.534800   \n",
       "75%        647.000000   1725.000000    605.000000       4.743250   \n",
       "max       6445.000000  35682.000000   6082.000000      15.000100   \n",
       "\n",
       "       median_house_value  \n",
       "count        20640.000000  \n",
       "mean        206855.816909  \n",
       "std         115395.615874  \n",
       "min          14999.000000  \n",
       "25%         119600.000000  \n",
       "50%         179700.000000  \n",
       "75%         264725.000000  \n",
       "max         500001.000000  "
      ]
     },
     "execution_count": 8,
     "metadata": {},
     "output_type": "execute_result"
    }
   ],
   "source": [
    "housing.describe()"
   ]
  },
  {
   "cell_type": "code",
   "execution_count": 9,
   "id": "205efd68",
   "metadata": {
    "execution": {
     "iopub.execute_input": "2022-03-16T18:44:55.333671Z",
     "iopub.status.busy": "2022-03-16T18:44:55.332940Z",
     "iopub.status.idle": "2022-03-16T18:45:00.152535Z",
     "shell.execute_reply": "2022-03-16T18:45:00.153042Z",
     "shell.execute_reply.started": "2022-03-16T18:42:39.188461Z"
    },
    "papermill": {
     "duration": 4.843094,
     "end_time": "2022-03-16T18:45:00.153228",
     "exception": false,
     "start_time": "2022-03-16T18:44:55.310134",
     "status": "completed"
    },
    "tags": []
   },
   "outputs": [
    {
     "name": "stdout",
     "output_type": "stream",
     "text": [
      "Saving figure attribute_histogram_plot\n"
     ]
    },
    {
     "data": {
      "image/png": "[encoded data removed]",
      "text/plain": [
       "<Figure size 1440x1080 with 9 Axes>"
      ]
     },
     "metadata": {
      "needs_background": "light"
     },
     "output_type": "display_data"
    }
   ],
   "source": [
    "housing.hist(bins=50, figsize=(20,15));\n",
    "save_fig('attribute_histogram_plot')\n"
   ]
  },
  {
   "cell_type": "code",
   "execution_count": null,
   "id": "688522b8",
   "metadata": {
    "papermill": {
     "duration": 0.022545,
     "end_time": "2022-03-16T18:45:00.197558",
     "exception": false,
     "start_time": "2022-03-16T18:45:00.175013",
     "status": "completed"
    },
    "tags": []
   },
   "outputs": [],
   "source": []
  },
  {
   "cell_type": "code",
   "execution_count": null,
   "id": "8095407f",
   "metadata": {
    "papermill": {
     "duration": 0.021195,
     "end_time": "2022-03-16T18:45:00.240888",
     "exception": false,
     "start_time": "2022-03-16T18:45:00.219693",
     "status": "completed"
    },
    "tags": []
   },
   "outputs": [],
   "source": []
  },
  {
   "cell_type": "code",
   "execution_count": null,
   "id": "3e17fca9",
   "metadata": {
    "papermill": {
     "duration": 0.021289,
     "end_time": "2022-03-16T18:45:00.283929",
     "exception": false,
     "start_time": "2022-03-16T18:45:00.262640",
     "status": "completed"
    },
    "tags": []
   },
   "outputs": [],
   "source": []
  },
  {
   "cell_type": "code",
   "execution_count": null,
   "id": "7a6ca10d",
   "metadata": {
    "papermill": {
     "duration": 0.021147,
     "end_time": "2022-03-16T18:45:00.326749",
     "exception": false,
     "start_time": "2022-03-16T18:45:00.305602",
     "status": "completed"
    },
    "tags": []
   },
   "outputs": [],
   "source": []
  },
  {
   "cell_type": "code",
   "execution_count": null,
   "id": "013e7fea",
   "metadata": {
    "papermill": {
     "duration": 0.021275,
     "end_time": "2022-03-16T18:45:00.370604",
     "exception": false,
     "start_time": "2022-03-16T18:45:00.349329",
     "status": "completed"
    },
    "tags": []
   },
   "outputs": [],
   "source": []
  }
 ],
 "metadata": {
  "kernelspec": {
   "display_name": "Python 3",
   "language": "python",
   "name": "python3"
  },
  "language_info": {
   "codemirror_mode": {
    "name": "ipython",
    "version": 3
   },
   "file_extension": ".py",
   "mimetype": "text/x-python",
   "name": "python",
   "nbconvert_exporter": "python",
   "pygments_lexer": "ipython3",
   "version": "3.7.12"
  },
  "papermill": {
   "default_parameters": {},
   "duration": 16.144613,
   "end_time": "2022-03-16T18:45:01.103952",
   "environment_variables": {},
   "exception": null,
   "input_path": "__notebook__.ipynb",
   "output_path": "__notebook__.ipynb",
   "parameters": {},
   "start_time": "2022-03-16T18:44:44.959339",
   "version": "2.3.3"
  }
 },
 "nbformat": 4,
 "nbformat_minor": 5
}
